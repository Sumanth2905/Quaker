{
 "cells": [
  {
   "cell_type": "code",
   "execution_count": 7,
   "metadata": {},
   "outputs": [],
   "source": [
    "import pyttsx3 \n",
    "import speech_recognition as sr\n",
    "import datetime\n",
    "import wikipedia\n",
    "import webbrowser\n",
    "import os\n",
    "import random\n",
    "\n",
    "#For the windows OS we use sapi5 API\n",
    "engine=pyttsx3.init('sapi5')\n",
    "voices=engine.getProperty('voices')\n",
    "\n",
    "#voices[0] gives male voice, and voices[1] female voice\n",
    "engine.setProperty('voice',voices[0].id)\n",
    "\n",
    "\n",
    "def speak(audio):\n",
    "    engine.say(audio)\n",
    "    engine.runAndWait()\n",
    "\n",
    "    \n",
    "def wishMe():\n",
    "    hour = int(datetime.datetime.now().hour)\n",
    "    if (hour >= 0 and hour < 12):\n",
    "        speak('Good Morning!')\n",
    "    elif (hour >= 12 and hour < 18):\n",
    "        speak('Good Afternoon!')\n",
    "    else:\n",
    "        speak('Good Evening!')\n",
    "\n",
    "    speak('I am Quaker Sir, I am working for Sumu. Please tell me how may I help you')\n",
    "\n",
    "if __name__=='__main__':\n",
    "    wishMe()"
   ]
  },
  {
   "cell_type": "code",
   "execution_count": null,
   "metadata": {},
   "outputs": [],
   "source": []
  }
 ],
 "metadata": {
  "kernelspec": {
   "display_name": "Python 3",
   "language": "python",
   "name": "python3"
  },
  "language_info": {
   "codemirror_mode": {
    "name": "ipython",
    "version": 3
   },
   "file_extension": ".py",
   "mimetype": "text/x-python",
   "name": "python",
   "nbconvert_exporter": "python",
   "pygments_lexer": "ipython3",
   "version": "3.7.6"
  }
 },
 "nbformat": 4,
 "nbformat_minor": 4
}
